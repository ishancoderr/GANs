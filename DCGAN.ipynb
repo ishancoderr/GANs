{
  "nbformat": 4,
  "nbformat_minor": 0,
  "metadata": {
    "colab": {
      "name": "Untitled61.ipynb",
      "provenance": [],
      "authorship_tag": "ABX9TyPCrNf3ywDb1TlCHh37n/gO",
      "include_colab_link": true
    },
    "kernelspec": {
      "name": "python3",
      "display_name": "Python 3"
    },
    "language_info": {
      "name": "python"
    }
  },
  "cells": [
    {
      "cell_type": "markdown",
      "metadata": {
        "id": "view-in-github",
        "colab_type": "text"
      },
      "source": [
        "<a href=\"https://colab.research.google.com/github/ishancoderr/GANs/blob/main/DCGAN.ipynb\" target=\"_parent\"><img src=\"https://colab.research.google.com/assets/colab-badge.svg\" alt=\"Open In Colab\"/></a>"
      ]
    },
    {
      "cell_type": "markdown",
      "source": [
        "**import libraries**"
      ],
      "metadata": {
        "id": "LM1NjfaOSrBh"
      }
    },
    {
      "cell_type": "code",
      "source": [
        "import tensorflow as tf\n",
        "import numpy as np\n",
        "import math\n",
        "import matplotlib.pyplot as plt\n",
        "import os"
      ],
      "metadata": {
        "id": "Jz2SfX9ITaEQ"
      },
      "execution_count": null,
      "outputs": []
    },
    {
      "cell_type": "markdown",
      "source": [
        "**Buiding a Generator Model**"
      ],
      "metadata": {
        "id": "6rvEJEf9TeUe"
      }
    },
    {
      "cell_type": "code",
      "source": [
        "def build_generator(image_size=28, input_size=100):\n",
        "    \n",
        "    #Build an input layer\n",
        "    gen_input = tf.keras.layers.Input(shape=(input_size,))\n",
        "    \n",
        "    #Increase dimensions and resize to 3D to feed it to Conv2DTranspose layer\n",
        "    x = tf.keras.layers.Dense(7 * 7 * 128)(gen_input)\n",
        "    x = tf.keras.layers.Reshape((7, 7, 128))(x)\n",
        "    \n",
        "    #Use ConvTranspose\n",
        "    x = tf.keras.layers.BatchNormalization()(x)\n",
        "    x = tf.keras.layers.Activation('relu')(x)\n",
        "    x = tf.keras.layers.Conv2DTranspose(128, kernel_size=[5,5], strides=2, padding='same')(x)\n",
        "    \n",
        "    x = tf.keras.layers.BatchNormalization()(x)\n",
        "    x = tf.keras.layers.Activation('relu')(x)\n",
        "    x = tf.keras.layers.Conv2DTranspose(64, kernel_size=[5,5], strides=2, padding='same')(x)\n",
        "    \n",
        "    x = tf.keras.layers.BatchNormalization()(x)\n",
        "    x = tf.keras.layers.Activation('relu')(x)\n",
        "    x = tf.keras.layers.Conv2DTranspose(32, kernel_size=[5,5], strides=1, padding='same')(x)\n",
        "    \n",
        "    x = tf.keras.layers.BatchNormalization()(x)\n",
        "    x = tf.keras.layers.Activation('relu')(x)\n",
        "    x = tf.keras.layers.Conv2DTranspose(1, kernel_size=[5,5], strides=1, padding='same')(x)\n",
        "    \n",
        "    #Output layer for Generator\n",
        "    # for black and white layer\n",
        "    x = tf.keras.layers.Activation('sigmoid')(x)\n",
        "    \n",
        "    #Build model using Model API\n",
        "    generator = tf.keras.models.Model(gen_input, x, name='generator')\n",
        "    \n",
        "    return generator"
      ],
      "metadata": {
        "id": "1ajlWCb3ThUv"
      },
      "execution_count": null,
      "outputs": []
    },
    {
      "cell_type": "markdown",
      "source": [
        "**Building a Discriminator**"
      ],
      "metadata": {
        "id": "QS3XSxyShpsR"
      }
    },
    {
      "cell_type": "code",
      "source": [
        "def build_discriminator(data_shape=[28,28,1,]):\n",
        "    \n",
        "    #Build the network\n",
        "    dis_input = tf.keras.layers.Input(data_shape)\n",
        "    x = tf.keras.layers.LeakyReLU(alpha=0.2)(dis_input)\n",
        "    x = tf.keras.layers.Conv2D(32, kernel_size=[5,5], strides=2, padding='same')(x)\n",
        "    \n",
        "    x = tf.keras.layers.LeakyReLU(alpha=0.2)(x)\n",
        "    x = tf.keras.layers.Conv2D(64, kernel_size=[5,5], strides=2, padding='same')(x)\n",
        "    \n",
        "    x = tf.keras.layers.LeakyReLU(alpha=0.2)(x)\n",
        "    x = tf.keras.layers.Conv2D(128, kernel_size=[5,5], strides=2, padding='same')(x)\n",
        "    \n",
        "    x = tf.keras.layers.LeakyReLU(alpha=0.2)(x)\n",
        "    x = tf.keras.layers.Conv2D(256, kernel_size=[5,5], strides=1, padding='same')(x)\n",
        "    \n",
        "    #Flatten the output and build an output layer\n",
        "    x = tf.keras.layers.Flatten()(x)\n",
        "    x = tf.keras.layers.Dense(1, activation='sigmoid')(x)\n",
        "    \n",
        "    #Build Model\n",
        "    discriminator = tf.keras.models.Model(dis_input, x, name='discriminator')\n",
        "    \n",
        "    return discriminator"
      ],
      "metadata": {
        "id": "xhF68y5OvI9-"
      },
      "execution_count": 3,
      "outputs": []
    },
    {
      "cell_type": "markdown",
      "source": [
        "**Building Models for Training**"
      ],
      "metadata": {
        "id": "b47qk4FEvvct"
      }
    },
    {
      "cell_type": "code",
      "source": [
        "def build_models():\n",
        "    \n",
        "    noise_size = 100\n",
        "    lr = 2e-4\n",
        "    decay = 6e-8\n",
        "    \n",
        "    #Build Base Discriminator model\n",
        "    base_discriminator = build_discriminator(data_shape=(28,28,1,))\n",
        "    \n",
        "    #Define optimizer and compile model\n",
        "    discriminator = tf.keras.models.Model(inputs=base_discriminator.inputs, \n",
        "                                          outputs=base_discriminator.outputs)\n",
        "    optimizer = tf.keras.optimizers.RMSprop(lr=lr, decay=decay)\n",
        "    discriminator.compile(loss='binary_crossentropy',\n",
        "                          optimizer=optimizer,\n",
        "                          metrics=['accuracy'])\n",
        "    \n",
        "    #Build Generator model\n",
        "    generator = build_generator(image_size=28, input_size=noise_size)\n",
        "    \n",
        "    #Build Frozen Discriminator\n",
        "    frozen_discriminator = tf.keras.models.Model(inputs=base_discriminator.inputs, \n",
        "                                          outputs=base_discriminator.outputs)\n",
        "    #Freeze the weights of discriminator during adversarial training\n",
        "    frozen_discriminator.trainable = False\n",
        "\n",
        "    #Build Adversarial model\n",
        "    optimizer = tf.keras.optimizers.RMSprop(lr=lr * 0.5, decay=decay * 0.5)\n",
        "    #Adversarial = generator + discriminator\n",
        "    adversarial = tf.keras.models.Model(generator.input, \n",
        "                        frozen_discriminator(generator.output))\n",
        "    \n",
        "    adversarial.compile(loss='binary_crossentropy',\n",
        "                        optimizer=optimizer,\n",
        "                        metrics=['accuracy'])    \n",
        "    \n",
        "    return generator, discriminator, adversarial"
      ],
      "metadata": {
        "id": "LigSJOqgxqb1"
      },
      "execution_count": 4,
      "outputs": []
    },
    {
      "cell_type": "markdown",
      "source": [
        "**Training Discriminator and Adversarial Mode**"
      ],
      "metadata": {
        "id": "tHDvs6hExz0s"
      }
    },
    {
      "cell_type": "code",
      "source": [
        "def train_gan(generator, discriminator, adversarial, noise_size=100):\n",
        "    \n",
        "    #Training parameters\n",
        "    batch_size = 64\n",
        "    train_steps = 10000\n",
        "    image_size = 28\n",
        "    \n",
        "    # load MNIST dataset\n",
        "    (train_x, _), (_, _) = tf.keras.datasets.mnist.load_data()\n",
        "    #Make it 3D dataset\n",
        "    train_x = np.reshape(train_x, [-1, image_size, image_size, 1])\n",
        "    #Standardize data : 0 to 1\n",
        "    train_x = train_x.astype('float32') / 255\n",
        "    \n",
        "    #Input for testing generator at different intervals, we will generate 16 images\n",
        "    test_noise_input = np.random.uniform(-1.0,1.0, size=[16, noise_size])\n",
        "    \n",
        "    #Start training\n",
        "    for i in range(train_steps):\n",
        "        \n",
        "        #Train DISCRIMATOR\n",
        "        \n",
        "        #1. Get fake images from Generator\n",
        "        noise_input = np.random.uniform(-1.0,1.0, size=[batch_size, noise_size])\n",
        "        fake_images = generator.predict(noise_input)\n",
        "        \n",
        "        #2. Get real images from training set\n",
        "        img_indexes = np.random.randint(0, train_x.shape[0], size=batch_size)\n",
        "        real_images = train_x[img_indexes]\n",
        "        \n",
        "        #3. Prepare input for training Discriminator\n",
        "        X = np.concatenate((real_images, fake_images))\n",
        "        \n",
        "        #4. Labels for training\n",
        "        y_real = np.ones((batch_size, 1))\n",
        "        y_fake = np.zeros((batch_size, 1))\n",
        "        y = np.concatenate((y_real, y_fake))\n",
        "        \n",
        "        #5. Train Discriminator\n",
        "        d_loss, d_acc = discriminator.train_on_batch(X, y)\n",
        "        \n",
        "        \n",
        "        #Train ADVERSARIAL Network\n",
        "        \n",
        "        #1. Prepare input - create a new batch of noise\n",
        "        X = noise_input = np.random.uniform(-1.0,1.0, size=[batch_size, noise_size])\n",
        "        \n",
        "        #2. Prepare labels - training Adversarial network to lie :) - All 1s\n",
        "        y = np.ones((batch_size, 1))\n",
        "        \n",
        "        #3. Train - Pls note Discrimator is not getting trained here\n",
        "        a_loss, a_acc = adversarial.train_on_batch(X, y)\n",
        "        \n",
        "        if i % 100 == 0:\n",
        "            #Print loss and Accuracy for both networks\n",
        "            print(\"%s [Discriminator loss: %f, acc: %f, Adversarial loss: %f, acc: %f]\" % (i, d_loss, d_acc, a_loss, a_acc) )\n",
        "        \n",
        "        #Save generated images to see how well Generator is doing\n",
        "        if (i+1) % 500 == 0:\n",
        "            \n",
        "            #Generate 16 images\n",
        "            fake_images = generator.predict(test_noise_input)\n",
        "            \n",
        "            #Display images\n",
        "            plot_images(fake_images, i+1)\n",
        "            \n",
        "    #Save Generator model\n",
        "    generator.save('mnist_generator_dcgan.h5')   "
      ],
      "metadata": {
        "id": "6FkBmLt-x8DF"
      },
      "execution_count": 7,
      "outputs": []
    },
    {
      "cell_type": "markdown",
      "source": [
        "**Save generator images**"
      ],
      "metadata": {
        "id": "ObBIa6-I3NJG"
      }
    },
    {
      "cell_type": "code",
      "source": [
        "def plot_images(fake_images, step):\n",
        "    \n",
        "    plt.figure(figsize=(2.5,2.5))\n",
        "    num_images = fake_images.shape[0]\n",
        "    \n",
        "    image_size = fake_images.shape[1]\n",
        "    rows = int(math.sqrt(fake_images.shape[0]))\n",
        "    \n",
        "    for i in range(num_images):\n",
        "        plt.subplot(rows, rows, i + 1)\n",
        "        image = np.reshape(fake_images[i], [image_size, image_size])\n",
        "        plt.imshow(image, cmap='gray')\n",
        "        plt.axis('off')\n",
        "    plt.show()"
      ],
      "metadata": {
        "id": "jWkSdsfF3PJl"
      },
      "execution_count": 8,
      "outputs": []
    },
    {
      "cell_type": "markdown",
      "source": [
        "**Start GAN Training**"
      ],
      "metadata": {
        "id": "Fn4kSAsW3Xvl"
      }
    },
    {
      "cell_type": "code",
      "source": [
        "G, D, A = build_models()"
      ],
      "metadata": {
        "colab": {
          "base_uri": "https://localhost:8080/"
        },
        "id": "HObMXtun3pu0",
        "outputId": "c764ad5e-f754-4ce6-f028-dce4f6d4653a"
      },
      "execution_count": 9,
      "outputs": [
        {
          "output_type": "stream",
          "name": "stderr",
          "text": [
            "/usr/local/lib/python3.7/dist-packages/keras/optimizer_v2/rmsprop.py:130: UserWarning: The `lr` argument is deprecated, use `learning_rate` instead.\n",
            "  super(RMSprop, self).__init__(name, **kwargs)\n"
          ]
        }
      ]
    },
    {
      "cell_type": "code",
      "source": [
        "G.summary()"
      ],
      "metadata": {
        "colab": {
          "base_uri": "https://localhost:8080/"
        },
        "id": "RVM7wn5i3rIE",
        "outputId": "c6b95d38-d573-4d5c-aacd-95317ffbefd3"
      },
      "execution_count": 10,
      "outputs": [
        {
          "output_type": "stream",
          "name": "stdout",
          "text": [
            "Model: \"generator\"\n",
            "_________________________________________________________________\n",
            " Layer (type)                Output Shape              Param #   \n",
            "=================================================================\n",
            " input_2 (InputLayer)        [(None, 100)]             0         \n",
            "                                                                 \n",
            " dense_1 (Dense)             (None, 6272)              633472    \n",
            "                                                                 \n",
            " reshape (Reshape)           (None, 7, 7, 128)         0         \n",
            "                                                                 \n",
            " batch_normalization (BatchN  (None, 7, 7, 128)        512       \n",
            " ormalization)                                                   \n",
            "                                                                 \n",
            " activation (Activation)     (None, 7, 7, 128)         0         \n",
            "                                                                 \n",
            " conv2d_transpose (Conv2DTra  (None, 14, 14, 128)      409728    \n",
            " nspose)                                                         \n",
            "                                                                 \n",
            " batch_normalization_1 (Batc  (None, 14, 14, 128)      512       \n",
            " hNormalization)                                                 \n",
            "                                                                 \n",
            " activation_1 (Activation)   (None, 14, 14, 128)       0         \n",
            "                                                                 \n",
            " conv2d_transpose_1 (Conv2DT  (None, 28, 28, 64)       204864    \n",
            " ranspose)                                                       \n",
            "                                                                 \n",
            " batch_normalization_2 (Batc  (None, 28, 28, 64)       256       \n",
            " hNormalization)                                                 \n",
            "                                                                 \n",
            " activation_2 (Activation)   (None, 28, 28, 64)        0         \n",
            "                                                                 \n",
            " conv2d_transpose_2 (Conv2DT  (None, 28, 28, 32)       51232     \n",
            " ranspose)                                                       \n",
            "                                                                 \n",
            " batch_normalization_3 (Batc  (None, 28, 28, 32)       128       \n",
            " hNormalization)                                                 \n",
            "                                                                 \n",
            " activation_3 (Activation)   (None, 28, 28, 32)        0         \n",
            "                                                                 \n",
            " conv2d_transpose_3 (Conv2DT  (None, 28, 28, 1)        801       \n",
            " ranspose)                                                       \n",
            "                                                                 \n",
            " activation_4 (Activation)   (None, 28, 28, 1)         0         \n",
            "                                                                 \n",
            "=================================================================\n",
            "Total params: 1,301,505\n",
            "Trainable params: 1,300,801\n",
            "Non-trainable params: 704\n",
            "_________________________________________________________________\n"
          ]
        }
      ]
    },
    {
      "cell_type": "code",
      "source": [
        "D.summary()"
      ],
      "metadata": {
        "colab": {
          "base_uri": "https://localhost:8080/"
        },
        "id": "La5xdUJE3u81",
        "outputId": "d15dae5a-8d2b-40b7-af5a-c0dd8c417b71"
      },
      "execution_count": 11,
      "outputs": [
        {
          "output_type": "stream",
          "name": "stdout",
          "text": [
            "Model: \"model\"\n",
            "_________________________________________________________________\n",
            " Layer (type)                Output Shape              Param #   \n",
            "=================================================================\n",
            " input_1 (InputLayer)        [(None, 28, 28, 1)]       0         \n",
            "                                                                 \n",
            " leaky_re_lu (LeakyReLU)     (None, 28, 28, 1)         0         \n",
            "                                                                 \n",
            " conv2d (Conv2D)             (None, 14, 14, 32)        832       \n",
            "                                                                 \n",
            " leaky_re_lu_1 (LeakyReLU)   (None, 14, 14, 32)        0         \n",
            "                                                                 \n",
            " conv2d_1 (Conv2D)           (None, 7, 7, 64)          51264     \n",
            "                                                                 \n",
            " leaky_re_lu_2 (LeakyReLU)   (None, 7, 7, 64)          0         \n",
            "                                                                 \n",
            " conv2d_2 (Conv2D)           (None, 4, 4, 128)         204928    \n",
            "                                                                 \n",
            " leaky_re_lu_3 (LeakyReLU)   (None, 4, 4, 128)         0         \n",
            "                                                                 \n",
            " conv2d_3 (Conv2D)           (None, 4, 4, 256)         819456    \n",
            "                                                                 \n",
            " flatten (Flatten)           (None, 4096)              0         \n",
            "                                                                 \n",
            " dense (Dense)               (None, 1)                 4097      \n",
            "                                                                 \n",
            "=================================================================\n",
            "Total params: 1,080,577\n",
            "Trainable params: 0\n",
            "Non-trainable params: 1,080,577\n",
            "_________________________________________________________________\n"
          ]
        }
      ]
    },
    {
      "cell_type": "code",
      "source": [
        "A.summary()"
      ],
      "metadata": {
        "colab": {
          "base_uri": "https://localhost:8080/"
        },
        "id": "4zpVwz3D3yCU",
        "outputId": "1b3903f1-759e-4a30-dc0f-7161aed8fda6"
      },
      "execution_count": 12,
      "outputs": [
        {
          "output_type": "stream",
          "name": "stdout",
          "text": [
            "Model: \"model_2\"\n",
            "_________________________________________________________________\n",
            " Layer (type)                Output Shape              Param #   \n",
            "=================================================================\n",
            " input_2 (InputLayer)        [(None, 100)]             0         \n",
            "                                                                 \n",
            " dense_1 (Dense)             (None, 6272)              633472    \n",
            "                                                                 \n",
            " reshape (Reshape)           (None, 7, 7, 128)         0         \n",
            "                                                                 \n",
            " batch_normalization (BatchN  (None, 7, 7, 128)        512       \n",
            " ormalization)                                                   \n",
            "                                                                 \n",
            " activation (Activation)     (None, 7, 7, 128)         0         \n",
            "                                                                 \n",
            " conv2d_transpose (Conv2DTra  (None, 14, 14, 128)      409728    \n",
            " nspose)                                                         \n",
            "                                                                 \n",
            " batch_normalization_1 (Batc  (None, 14, 14, 128)      512       \n",
            " hNormalization)                                                 \n",
            "                                                                 \n",
            " activation_1 (Activation)   (None, 14, 14, 128)       0         \n",
            "                                                                 \n",
            " conv2d_transpose_1 (Conv2DT  (None, 28, 28, 64)       204864    \n",
            " ranspose)                                                       \n",
            "                                                                 \n",
            " batch_normalization_2 (Batc  (None, 28, 28, 64)       256       \n",
            " hNormalization)                                                 \n",
            "                                                                 \n",
            " activation_2 (Activation)   (None, 28, 28, 64)        0         \n",
            "                                                                 \n",
            " conv2d_transpose_2 (Conv2DT  (None, 28, 28, 32)       51232     \n",
            " ranspose)                                                       \n",
            "                                                                 \n",
            " batch_normalization_3 (Batc  (None, 28, 28, 32)       128       \n",
            " hNormalization)                                                 \n",
            "                                                                 \n",
            " activation_3 (Activation)   (None, 28, 28, 32)        0         \n",
            "                                                                 \n",
            " conv2d_transpose_3 (Conv2DT  (None, 28, 28, 1)        801       \n",
            " ranspose)                                                       \n",
            "                                                                 \n",
            " activation_4 (Activation)   (None, 28, 28, 1)         0         \n",
            "                                                                 \n",
            " model_1 (Functional)        (None, 1)                 1080577   \n",
            "                                                                 \n",
            "=================================================================\n",
            "Total params: 2,382,082\n",
            "Trainable params: 1,300,801\n",
            "Non-trainable params: 1,081,281\n",
            "_________________________________________________________________\n"
          ]
        }
      ]
    },
    {
      "cell_type": "code",
      "source": [
        "train_gan(G, D, A)"
      ],
      "metadata": {
        "id": "K4Y_2I6H4RAN"
      },
      "execution_count": null,
      "outputs": []
    }
  ]
}